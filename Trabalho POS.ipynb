{
 "cells": [
  {
   "cell_type": "code",
   "execution_count": 2,
   "metadata": {},
   "outputs": [
    {
     "name": "stderr",
     "output_type": "stream",
     "text": [
      "/home/jgabrielmeurer1/.local/lib/python3.5/site-packages/pyspark/context.py:225: DeprecationWarning: Support for Python 2 and Python 3 prior to version 3.6 is deprecated as of Spark 3.0. See also the plan for dropping Python 2 support at https://spark.apache.org/news/plan-for-dropping-python-2-support.html.\n",
      "  DeprecationWarning)\n"
     ]
    }
   ],
   "source": [
    "from pyspark.sql import SparkSession\n",
    "\n",
    "spark = SparkSession \\\n",
    "    .builder \\\n",
    "    .appName(\"Python Spark SQL basic example\") \\\n",
    "    .config(\"spark.some.config.option\", \"some-value\") \\\n",
    "    .getOrCreate()"
   ]
  },
  {
   "cell_type": "code",
   "execution_count": 15,
   "metadata": {},
   "outputs": [],
   "source": [
    "from pyspark.sql import Row"
   ]
  },
  {
   "cell_type": "code",
   "execution_count": 4,
   "metadata": {},
   "outputs": [
    {
     "name": "stdout",
     "output_type": "stream",
     "text": [
      "+-------------+----------+--------------------+\n",
      "|          _c0|       _c1|                 _c2|\n",
      "+-------------+----------+--------------------+\n",
      "|Member_number|      Date|     itemDescription|\n",
      "|         1808|21-07-2015|      tropical fruit|\n",
      "|         2552|05-01-2015|          whole milk|\n",
      "|         2300|19-09-2015|           pip fruit|\n",
      "|         1187|12-12-2015|    other vegetables|\n",
      "|         3037|01-02-2015|          whole milk|\n",
      "|         4941|14-02-2015|          rolls/buns|\n",
      "|         4501|08-05-2015|    other vegetables|\n",
      "|         3803|23-12-2015|          pot plants|\n",
      "|         2762|20-03-2015|          whole milk|\n",
      "|         4119|12-02-2015|      tropical fruit|\n",
      "|         1340|24-02-2015|        citrus fruit|\n",
      "|         2193|14-04-2015|                beef|\n",
      "|         1997|21-07-2015|         frankfurter|\n",
      "|         4546|03-09-2015|             chicken|\n",
      "|         4736|21-07-2015|              butter|\n",
      "|         1959|30-03-2015|fruit/vegetable j...|\n",
      "|         1974|03-05-2015|packaged fruit/ve...|\n",
      "|         2421|02-09-2015|           chocolate|\n",
      "|         1513|03-08-2015|       specialty bar|\n",
      "+-------------+----------+--------------------+\n",
      "only showing top 20 rows\n",
      "\n"
     ]
    }
   ],
   "source": [
    "df = spark.read.csv(\"/home/jgabrielmeurer1/Desktop/mba/archive\")\n",
    "df.show()"
   ]
  },
  {
   "cell_type": "code",
   "execution_count": 5,
   "metadata": {},
   "outputs": [
    {
     "name": "stdout",
     "output_type": "stream",
     "text": [
      "+--------------------+\n",
      "|                 _c2|\n",
      "+--------------------+\n",
      "|     itemDescription|\n",
      "|      tropical fruit|\n",
      "|          whole milk|\n",
      "|           pip fruit|\n",
      "|    other vegetables|\n",
      "|          whole milk|\n",
      "|          rolls/buns|\n",
      "|    other vegetables|\n",
      "|          pot plants|\n",
      "|          whole milk|\n",
      "|      tropical fruit|\n",
      "|        citrus fruit|\n",
      "|                beef|\n",
      "|         frankfurter|\n",
      "|             chicken|\n",
      "|              butter|\n",
      "|fruit/vegetable j...|\n",
      "|packaged fruit/ve...|\n",
      "|           chocolate|\n",
      "|       specialty bar|\n",
      "+--------------------+\n",
      "only showing top 20 rows\n",
      "\n"
     ]
    }
   ],
   "source": [
    "df.select(\"_c2\").show()"
   ]
  },
  {
   "cell_type": "code",
   "execution_count": 10,
   "metadata": {},
   "outputs": [],
   "source": [
    "df.createOrReplaceTempView(\"grocery\")\n"
   ]
  },
  {
   "cell_type": "code",
   "execution_count": 18,
   "metadata": {},
   "outputs": [
    {
     "name": "stdout",
     "output_type": "stream",
     "text": [
      "+----+----------+--------------------+\n",
      "| _c0|       _c1|                 _c2|\n",
      "+----+----------+--------------------+\n",
      "|2421|02-09-2015|           chocolate|\n",
      "|3111|31-01-2015|           chocolate|\n",
      "|2229|30-05-2015|           chocolate|\n",
      "|2649|28-11-2015|           chocolate|\n",
      "|3361|22-07-2015|           chocolate|\n",
      "|4993|21-01-2015|           chocolate|\n",
      "|2777|01-06-2015|           chocolate|\n",
      "|3950|05-12-2015|           chocolate|\n",
      "|4088|05-03-2015|chocolate marshma...|\n",
      "|4719|04-10-2015|           chocolate|\n",
      "|1509|13-05-2015|           chocolate|\n",
      "|1758|26-02-2015|           chocolate|\n",
      "|3791|23-01-2015|           chocolate|\n",
      "|4352|29-12-2015|           chocolate|\n",
      "|2294|26-07-2015|           chocolate|\n",
      "|2678|04-04-2015|           chocolate|\n",
      "|2444|12-05-2015|chocolate marshma...|\n",
      "|2761|02-03-2015|           chocolate|\n",
      "|3167|03-02-2015|           chocolate|\n",
      "|4686|12-11-2015|           chocolate|\n",
      "+----+----------+--------------------+\n",
      "only showing top 20 rows\n",
      "\n"
     ]
    }
   ],
   "source": [
    "#exibir chocolate\n",
    "sqlDF = spark.sql(\"SELECT * FROM grocery WHERE _c2 LIKE 'choc%'\")\n",
    "sqlDF.show()"
   ]
  },
  {
   "cell_type": "code",
   "execution_count": 13,
   "metadata": {},
   "outputs": [],
   "source": [
    "df.createGlobalTempView(\"grocery\")"
   ]
  },
  {
   "cell_type": "code",
   "execution_count": 14,
   "metadata": {},
   "outputs": [
    {
     "name": "stdout",
     "output_type": "stream",
     "text": [
      "+-------------+----------+--------------------+\n",
      "|          _c0|       _c1|                 _c2|\n",
      "+-------------+----------+--------------------+\n",
      "|Member_number|      Date|     itemDescription|\n",
      "|         1808|21-07-2015|      tropical fruit|\n",
      "|         2552|05-01-2015|          whole milk|\n",
      "|         2300|19-09-2015|           pip fruit|\n",
      "|         1187|12-12-2015|    other vegetables|\n",
      "|         3037|01-02-2015|          whole milk|\n",
      "|         4941|14-02-2015|          rolls/buns|\n",
      "|         4501|08-05-2015|    other vegetables|\n",
      "|         3803|23-12-2015|          pot plants|\n",
      "|         2762|20-03-2015|          whole milk|\n",
      "|         4119|12-02-2015|      tropical fruit|\n",
      "|         1340|24-02-2015|        citrus fruit|\n",
      "|         2193|14-04-2015|                beef|\n",
      "|         1997|21-07-2015|         frankfurter|\n",
      "|         4546|03-09-2015|             chicken|\n",
      "|         4736|21-07-2015|              butter|\n",
      "|         1959|30-03-2015|fruit/vegetable j...|\n",
      "|         1974|03-05-2015|packaged fruit/ve...|\n",
      "|         2421|02-09-2015|           chocolate|\n",
      "|         1513|03-08-2015|       specialty bar|\n",
      "+-------------+----------+--------------------+\n",
      "only showing top 20 rows\n",
      "\n"
     ]
    }
   ],
   "source": [
    "spark.sql(\"SELECT * FROM global_temp.grocery\").show()"
   ]
  },
  {
   "cell_type": "code",
   "execution_count": null,
   "metadata": {},
   "outputs": [],
   "source": []
  }
 ],
 "metadata": {
  "kernelspec": {
   "display_name": "Python 3",
   "language": "python",
   "name": "python3"
  },
  "language_info": {
   "codemirror_mode": {
    "name": "ipython",
    "version": 3
   },
   "file_extension": ".py",
   "mimetype": "text/x-python",
   "name": "python",
   "nbconvert_exporter": "python",
   "pygments_lexer": "ipython3",
   "version": "3.5.3"
  }
 },
 "nbformat": 4,
 "nbformat_minor": 4
}
